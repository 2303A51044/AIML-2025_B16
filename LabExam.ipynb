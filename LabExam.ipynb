{
  "nbformat": 4,
  "nbformat_minor": 0,
  "metadata": {
    "colab": {
      "provenance": [],
      "authorship_tag": "ABX9TyPy5FEKd2JavkQDsFfhlRHH",
      "include_colab_link": true
    },
    "kernelspec": {
      "name": "python3",
      "display_name": "Python 3"
    },
    "language_info": {
      "name": "python"
    }
  },
  "cells": [
    {
      "cell_type": "markdown",
      "metadata": {
        "id": "view-in-github",
        "colab_type": "text"
      },
      "source": [
        "<a href=\"https://colab.research.google.com/github/2303A51044/AIML-2025_B16/blob/main/LabExam.ipynb\" target=\"_parent\"><img src=\"https://colab.research.google.com/assets/colab-badge.svg\" alt=\"Open In Colab\"/></a>"
      ]
    },
    {
      "cell_type": "code",
      "execution_count": 2,
      "metadata": {
        "colab": {
          "base_uri": "https://localhost:8080/"
        },
        "id": "A7iYLeyx_lrc",
        "outputId": "fef6a6f1-c021-4c47-ab46-8c40bfb099f9"
      },
      "outputs": [
        {
          "output_type": "stream",
          "name": "stdout",
          "text": [
            "Top 5 most played chords: [('C', 1), ('G', 1), ('Am', 1), ('F', 1), ('D', 1)]\n"
          ]
        }
      ],
      "source": [
        "import pandas as pd\n",
        "from collections import Counter\n",
        "chords = [\"C\", \"G\", \"Am\", \"F\", \"D\", \"E\", \"A\", \"Bm\", \"D7\", \"E7\", \"Cmaj7\", \"G7\"]\n",
        "chord_counter = Counter(chords)\n",
        "top_5_chords = chord_counter.most_common(5)\n",
        "print(\"Top 5 most played chords:\", top_5_chords)\n",
        "\n"
      ]
    },
    {
      "cell_type": "code",
      "source": [
        "finger_positions = {\n",
        "    \"C\": {\"index\": [1], \"middle\": [2], \"ring\": [3]},\n",
        "    \"G\": {\"index\": [2], \"middle\": [3], \"ring\": [4], \"pinky\": [5]},\n",
        "    \"Am\": {\"index\": [1], \"middle\": [2], \"ring\": [3]},\n",
        "    \"F\": {\"index\": [1], \"middle\": [2], \"ring\": [3], \"pinky\": [4]},\n",
        "    \"D\": {\"index\": [1], \"middle\": [2], \"ring\": [3]},\n",
        "    \"E\": {\"index\": [1], \"middle\": [2], \"ring\": [3]},\n",
        "    \"A\": {\"index\": [1], \"middle\": [2], \"ring\": [3]},\n",
        "    \"Bm\": {\"index\": [1], \"middle\": [2], \"ring\": [3]},\n",
        "}\n",
        "finger_usage = Counter()\n",
        "for chord, positions in finger_positions.items():\n",
        "    for finger, frets in positions.items():\n",
        "        finger_usage[finger] += len(frets)\n",
        "print(\"Most used fingers:\", finger_usage.most_common())\n"
      ],
      "metadata": {
        "colab": {
          "base_uri": "https://localhost:8080/"
        },
        "id": "5vyt1ObiDiKr",
        "outputId": "c619db25-757b-433e-bacc-53b5931ab941"
      },
      "execution_count": 3,
      "outputs": [
        {
          "output_type": "stream",
          "name": "stdout",
          "text": [
            "Most used fingers: [('index', 8), ('middle', 8), ('ring', 8), ('pinky', 2)]\n"
          ]
        }
      ]
    },
    {
      "cell_type": "code",
      "source": [
        "string_movements = [\n",
        "    \"hammer-on\", \"pull-off\", \"slide\", \"bend\", \"vibrato\",\n",
        "    \"hammer-on\", \"pull-off\", \"slide\", \"bend\", \"strumming\",\n",
        "    \"bend\", \"slide\", \"vibrato\", \"strumming\", \"pluck\"\n",
        "]\n",
        "movement_counter = Counter(string_movements)\n",
        "top_5_movements = movement_counter.most_common(5)\n",
        "print(\"Top 5 string movements:\", top_5_movements)\n"
      ],
      "metadata": {
        "colab": {
          "base_uri": "https://localhost:8080/"
        },
        "id": "0s6K12PlEp2r",
        "outputId": "9514081c-0551-4f8d-b54b-886ec7ef824e"
      },
      "execution_count": 4,
      "outputs": [
        {
          "output_type": "stream",
          "name": "stdout",
          "text": [
            "Top 5 string movements: [('slide', 3), ('bend', 3), ('hammer-on', 2), ('pull-off', 2), ('vibrato', 2)]\n"
          ]
        }
      ]
    },
    {
      "cell_type": "code",
      "source": [
        "middle_and_pinky_chords = {chord: pos for chord, pos in finger_positions.items()\n",
        "                           if \"middle\" in pos and \"pinky\" in pos}\n",
        "\n",
        "print(\"Chords that use both middle and pinkie fingers:\", middle_and_pinky_chords)\n"
      ],
      "metadata": {
        "colab": {
          "base_uri": "https://localhost:8080/"
        },
        "id": "5mhplPRqEysS",
        "outputId": "cf2fbafc-1f10-4448-b501-ac1cd60cf3fc"
      },
      "execution_count": 5,
      "outputs": [
        {
          "output_type": "stream",
          "name": "stdout",
          "text": [
            "Chords that use both middle and pinkie fingers: {'G': {'index': [2], 'middle': [3], 'ring': [4], 'pinky': [5]}, 'F': {'index': [1], 'middle': [2], 'ring': [3], 'pinky': [4]}}\n"
          ]
        }
      ]
    },
    {
      "cell_type": "code",
      "source": [
        "chord_with_index_middle_ring = {chord: pos for chord, pos in finger_positions.items()\n",
        "                                if \"index\" in pos and \"middle\" in pos and \"ring\" in pos}\n",
        "\n",
        "print(\"Chords that use index, middle, and ring fingers:\", chord_with_index_middle_ring)\n"
      ],
      "metadata": {
        "colab": {
          "base_uri": "https://localhost:8080/"
        },
        "id": "vz5ZKCFOE-pb",
        "outputId": "69e533b7-a993-415d-a8a5-f6b5b5feed54"
      },
      "execution_count": 6,
      "outputs": [
        {
          "output_type": "stream",
          "name": "stdout",
          "text": [
            "Chords that use index, middle, and ring fingers: {'C': {'index': [1], 'middle': [2], 'ring': [3]}, 'G': {'index': [2], 'middle': [3], 'ring': [4], 'pinky': [5]}, 'Am': {'index': [1], 'middle': [2], 'ring': [3]}, 'F': {'index': [1], 'middle': [2], 'ring': [3], 'pinky': [4]}, 'D': {'index': [1], 'middle': [2], 'ring': [3]}, 'E': {'index': [1], 'middle': [2], 'ring': [3]}, 'A': {'index': [1], 'middle': [2], 'ring': [3]}, 'Bm': {'index': [1], 'middle': [2], 'ring': [3]}}\n"
          ]
        }
      ]
    }
  ]
}